{
 "cells": [
  {
   "cell_type": "code",
   "execution_count": 1,
   "id": "f9174c0a",
   "metadata": {
    "execution": {
     "iopub.execute_input": "2024-08-25T15:25:38.381581Z",
     "iopub.status.busy": "2024-08-25T15:25:38.381282Z",
     "iopub.status.idle": "2024-08-25T15:25:41.578376Z",
     "shell.execute_reply": "2024-08-25T15:25:41.577476Z"
    },
    "papermill": {
     "duration": 3.204115,
     "end_time": "2024-08-25T15:25:41.581570",
     "exception": false,
     "start_time": "2024-08-25T15:25:38.377455",
     "status": "completed"
    },
    "tags": []
   },
   "outputs": [
    {
     "name": "stdout",
     "output_type": "stream",
     "text": [
      "Using device: cuda\n",
      "\n",
      "Tesla P100-PCIE-16GB\n",
      "Memory Usage:\n",
      "Allocated: 0.0 GB\n",
      "Cached:  0.0 GB\n"
     ]
    },
    {
     "name": "stderr",
     "output_type": "stream",
     "text": [
      "/tmp/ipykernel_23/2995758055.py:20: FutureWarning: `torch.cuda.memory_cached` has been renamed to `torch.cuda.memory_reserved`\n",
      "  print('Cached: ', round(torch.cuda.memory_cached(0)/1024**3,1), 'GB')\n"
     ]
    }
   ],
   "source": [
    "import torch\n",
    "\n",
    "\n",
    "# print(torch.cuda.current_device())\n",
    "# print(torch.cuda.device(0))\n",
    "# print(torch.cuda.device_count())\n",
    "# print(torch.cuda.get_device_name(0))\n",
    "# print(torch.cuda.is_available())\n",
    "\n",
    "# setting device on GPU if available, else CPU\n",
    "device = torch.device('cuda' if torch.cuda.is_available() else 'cpu')\n",
    "print('Using device:', device)\n",
    "print()\n",
    "\n",
    "# additional info when using cuda\n",
    "if device.type == 'cuda':\n",
    "  print(torch.cuda.get_device_name(0))\n",
    "  print('Memory Usage:')\n",
    "  print('Allocated:', round(torch.cuda.memory_allocated(0)/1024**3,1), 'GB')\n",
    "  print('Cached: ', round(torch.cuda.memory_cached(0)/1024**3,1), 'GB')"
   ]
  },
  {
   "cell_type": "code",
   "execution_count": 2,
   "id": "8f316212",
   "metadata": {
    "execution": {
     "iopub.execute_input": "2024-08-25T15:25:41.588182Z",
     "iopub.status.busy": "2024-08-25T15:25:41.587774Z",
     "iopub.status.idle": "2024-08-25T15:26:00.965205Z",
     "shell.execute_reply": "2024-08-25T15:26:00.963956Z"
    },
    "papermill": {
     "duration": 19.383337,
     "end_time": "2024-08-25T15:26:00.967730",
     "exception": false,
     "start_time": "2024-08-25T15:25:41.584393",
     "status": "completed"
    },
    "tags": []
   },
   "outputs": [],
   "source": [
    "!cp -R /kaggle/input/pytorch-yolov4-work/pytorch-YOLOv4 /kaggle/working/"
   ]
  },
  {
   "cell_type": "code",
   "execution_count": 3,
   "id": "f25384a3",
   "metadata": {
    "execution": {
     "iopub.execute_input": "2024-08-25T15:26:00.974829Z",
     "iopub.status.busy": "2024-08-25T15:26:00.974056Z",
     "iopub.status.idle": "2024-08-25T15:26:01.969313Z",
     "shell.execute_reply": "2024-08-25T15:26:01.968130Z"
    },
    "papermill": {
     "duration": 1.001423,
     "end_time": "2024-08-25T15:26:01.971864",
     "exception": false,
     "start_time": "2024-08-25T15:26:00.970441",
     "status": "completed"
    },
    "tags": []
   },
   "outputs": [
    {
     "name": "stdout",
     "output_type": "stream",
     "text": [
      "/kaggle/working/pytorch-YOLOv4\n",
      "DeepStream\t\t\t      experiment_yolo.ipynb\r\n",
      "INTERRUPTED.pth\t\t\t      log\r\n",
      "License.txt\t\t\t      models.py\r\n",
      "README.md\t\t\t      predictions.jpg\r\n",
      "Use_yolov4_to_train_your_own_data.md  requirements.txt\r\n",
      "cfg\t\t\t\t      tool\r\n",
      "cfg.py\t\t\t\t      train\r\n",
      "chess_data\t\t\t      train.py\r\n",
      "data\t\t\t\t      train.txt\r\n",
      "dataset.py\t\t\t      yolov4.conv.137.pth\r\n",
      "evaluate_on_coco.py\r\n"
     ]
    }
   ],
   "source": [
    "%cd /kaggle/working/pytorch-YOLOv4\n",
    "!ls"
   ]
  },
  {
   "cell_type": "code",
   "execution_count": 4,
   "id": "f061753b",
   "metadata": {
    "execution": {
     "iopub.execute_input": "2024-08-25T15:26:01.979184Z",
     "iopub.status.busy": "2024-08-25T15:26:01.978580Z",
     "iopub.status.idle": "2024-08-25T15:26:28.557937Z",
     "shell.execute_reply": "2024-08-25T15:26:28.556965Z"
    },
    "papermill": {
     "duration": 26.585728,
     "end_time": "2024-08-25T15:26:28.560487",
     "exception": false,
     "start_time": "2024-08-25T15:26:01.974759",
     "status": "completed"
    },
    "tags": []
   },
   "outputs": [
    {
     "name": "stdout",
     "output_type": "stream",
     "text": [
      "Requirement already satisfied: tensorboardX in /opt/conda/lib/python3.10/site-packages (2.6.2.2)\r\n",
      "Requirement already satisfied: numpy in /opt/conda/lib/python3.10/site-packages (from tensorboardX) (1.26.4)\r\n",
      "Requirement already satisfied: packaging in /opt/conda/lib/python3.10/site-packages (from tensorboardX) (21.3)\r\n",
      "Requirement already satisfied: protobuf>=3.20 in /opt/conda/lib/python3.10/site-packages (from tensorboardX) (3.20.3)\r\n",
      "Requirement already satisfied: pyparsing!=3.0.5,>=2.0.2 in /opt/conda/lib/python3.10/site-packages (from packaging->tensorboardX) (3.1.2)\r\n",
      "Collecting pycocotools\r\n",
      "  Downloading pycocotools-2.0.8-cp310-cp310-manylinux_2_17_x86_64.manylinux2014_x86_64.whl.metadata (1.1 kB)\r\n",
      "Requirement already satisfied: matplotlib>=2.1.0 in /opt/conda/lib/python3.10/site-packages (from pycocotools) (3.7.5)\r\n",
      "Requirement already satisfied: numpy in /opt/conda/lib/python3.10/site-packages (from pycocotools) (1.26.4)\r\n",
      "Requirement already satisfied: contourpy>=1.0.1 in /opt/conda/lib/python3.10/site-packages (from matplotlib>=2.1.0->pycocotools) (1.2.1)\r\n",
      "Requirement already satisfied: cycler>=0.10 in /opt/conda/lib/python3.10/site-packages (from matplotlib>=2.1.0->pycocotools) (0.12.1)\r\n",
      "Requirement already satisfied: fonttools>=4.22.0 in /opt/conda/lib/python3.10/site-packages (from matplotlib>=2.1.0->pycocotools) (4.53.0)\r\n",
      "Requirement already satisfied: kiwisolver>=1.0.1 in /opt/conda/lib/python3.10/site-packages (from matplotlib>=2.1.0->pycocotools) (1.4.5)\r\n",
      "Requirement already satisfied: packaging>=20.0 in /opt/conda/lib/python3.10/site-packages (from matplotlib>=2.1.0->pycocotools) (21.3)\r\n",
      "Requirement already satisfied: pillow>=6.2.0 in /opt/conda/lib/python3.10/site-packages (from matplotlib>=2.1.0->pycocotools) (9.5.0)\r\n",
      "Requirement already satisfied: pyparsing>=2.3.1 in /opt/conda/lib/python3.10/site-packages (from matplotlib>=2.1.0->pycocotools) (3.1.2)\r\n",
      "Requirement already satisfied: python-dateutil>=2.7 in /opt/conda/lib/python3.10/site-packages (from matplotlib>=2.1.0->pycocotools) (2.9.0.post0)\r\n",
      "Requirement already satisfied: six>=1.5 in /opt/conda/lib/python3.10/site-packages (from python-dateutil>=2.7->matplotlib>=2.1.0->pycocotools) (1.16.0)\r\n",
      "Downloading pycocotools-2.0.8-cp310-cp310-manylinux_2_17_x86_64.manylinux2014_x86_64.whl (427 kB)\r\n",
      "\u001b[2K   \u001b[90m━━━━━━━━━━━━━━━━━━━━━━━━━━━━━━━━━━━━━━━━\u001b[0m \u001b[32m427.8/427.8 kB\u001b[0m \u001b[31m9.5 MB/s\u001b[0m eta \u001b[36m0:00:00\u001b[0m\r\n",
      "\u001b[?25hInstalling collected packages: pycocotools\r\n",
      "Successfully installed pycocotools-2.0.8\r\n"
     ]
    }
   ],
   "source": [
    "%pip install tensorboardX\n",
    "%pip install pycocotools"
   ]
  },
  {
   "cell_type": "code",
   "execution_count": 3,
   "id": "da3701e0",
   "metadata": {
    "execution": {
     "iopub.execute_input": "2024-08-25T15:26:28.568995Z",
     "iopub.status.busy": "2024-08-25T15:26:28.568678Z",
     "iopub.status.idle": "2024-08-25T15:26:36.209161Z",
     "shell.execute_reply": "2024-08-25T15:26:36.208012Z"
    },
    "papermill": {
     "duration": 7.647553,
     "end_time": "2024-08-25T15:26:36.211612",
     "exception": false,
     "start_time": "2024-08-25T15:26:28.564059",
     "status": "completed"
    },
    "tags": []
   },
   "outputs": [
    {
     "name": "stdout",
     "output_type": "stream",
     "text": [
      "-----------------------------------\n",
      "           Preprocess : 0.007429\n",
      "      Model Inference : 0.586119\n",
      "-----------------------------------\n",
      "-----------------------------------\n",
      "       max and argmax : 0.002493\n",
      "                  nms : 0.001514\n",
      "Post processing total : 0.004007\n",
      "-----------------------------------\n",
      "-----------------------------------\n",
      "           Preprocess : 0.002033\n",
      "      Model Inference : 0.020321\n",
      "-----------------------------------\n",
      "-----------------------------------\n",
      "       max and argmax : 0.000999\n",
      "                  nms : 0.000000\n",
      "Post processing total : 0.000999\n",
      "-----------------------------------\n",
      "Pig: 0.934488\n",
      "save plot results to predictions.jpg\n"
     ]
    },
    {
     "name": "stderr",
     "output_type": "stream",
     "text": [
      "d:\\Hcmus\\3. ThirdYear\\3. Third Semester\\StatML\\Project\\modelTraining\\YOLOv4\\pytorch-YOLOv4\\models.py:476: FutureWarning: You are using `torch.load` with `weights_only=False` (the current default value), which uses the default pickle module implicitly. It is possible to construct malicious pickle data which will execute arbitrary code during unpickling (See https://github.com/pytorch/pytorch/blob/main/SECURITY.md#untrusted-models for more details). In a future release, the default value for `weights_only` will be flipped to `True`. This limits the functions that could be executed during unpickling. Arbitrary objects will no longer be allowed to be loaded via this mode unless they are explicitly allowlisted by the user via `torch.serialization.add_safe_globals`. We recommend you start setting `weights_only=True` for any use case where you don't have full control of the loaded file. Please open an issue on GitHub for any issues related to this experimental feature.\n",
      "  pretrained_dict = torch.load(weightfile, map_location=torch.device('cuda'))\n"
     ]
    }
   ],
   "source": [
    "!python pytorch-YOLOv4/models.py 9 Yolov4_epoch100.pth pig.jpg 416 416 pytorch-YOLOv4/train/_classes.txt"
   ]
  }
 ],
 "metadata": {
  "kaggle": {
   "accelerator": "gpu",
   "dataSources": [
    {
     "datasetId": 5590494,
     "sourceId": 9241861,
     "sourceType": "datasetVersion"
    },
    {
     "datasetId": 5592700,
     "sourceId": 9245114,
     "sourceType": "datasetVersion"
    }
   ],
   "dockerImageVersionId": 30762,
   "isGpuEnabled": true,
   "isInternetEnabled": true,
   "language": "python",
   "sourceType": "notebook"
  },
  "kernelspec": {
   "display_name": "Python 3",
   "language": "python",
   "name": "python3"
  },
  "language_info": {
   "codemirror_mode": {
    "name": "ipython",
    "version": 3
   },
   "file_extension": ".py",
   "mimetype": "text/x-python",
   "name": "python",
   "nbconvert_exporter": "python",
   "pygments_lexer": "ipython3",
   "version": "3.11.4"
  },
  "papermill": {
   "default_parameters": {},
   "duration": 61.146818,
   "end_time": "2024-08-25T15:26:36.835358",
   "environment_variables": {},
   "exception": null,
   "input_path": "__notebook__.ipynb",
   "output_path": "__notebook__.ipynb",
   "parameters": {},
   "start_time": "2024-08-25T15:25:35.688540",
   "version": "2.6.0"
  }
 },
 "nbformat": 4,
 "nbformat_minor": 5
}
