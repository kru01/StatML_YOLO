{
 "cells": [
  {
   "cell_type": "code",
   "execution_count": 14,
   "metadata": {},
   "outputs": [
    {
     "name": "stdout",
     "output_type": "stream",
     "text": [
      "22\n",
      "['Bear', 'Camel', 'Cat', 'Cattle', 'Chicken', 'Crab', 'Crocodile', 'Dog', 'Duck', 'Elephant', 'Fox', 'Frog', 'Hippopotamus', 'Kangaroo', 'Lion', 'Mouse', 'Pig', 'Rabbit', 'Sheep', 'Snail', 'Snake', 'Zebra']\n"
     ]
    }
   ],
   "source": [
    "classes = [\"Elephant\", \"Bear\" ,\"Zebra\", \"Camel\",  \"Cattle\", \"Chicken\", \"Crab\",  \"Crocodile\", \"Duck\", \"Frog\", \"Hippopotamus\", \"Kangaroo\", \"Lion\", \"Pig\", \"Rabbit\", \n",
    "              \"Snail\", \"Snake\", \"Mouse\", \"Fox\", \"Sheep\", \"Cat\", \"Dog\"]\n",
    "\n",
    "classes.sort()\n",
    "print(len(classes))\n",
    "print(classes)\n"
   ]
  },
  {
   "cell_type": "code",
   "execution_count": 15,
   "metadata": {},
   "outputs": [
    {
     "name": "stdout",
     "output_type": "stream",
     "text": [
      "Downloading split 'validation' to '/Users/anphong/Documents/School/ML/Crawling_Data/content_val/open-images-v7/validation' if necessary\n",
      "Downloading 'https://storage.googleapis.com/openimages/2018_04/validation/validation-images-with-rotation.csv' to '/Users/anphong/Documents/School/ML/Crawling_Data/content_val/open-images-v7/validation/metadata/image_ids.csv'\n",
      "Downloading 'https://storage.googleapis.com/openimages/v5/class-descriptions-boxable.csv' to '/Users/anphong/Documents/School/ML/Crawling_Data/content_val/open-images-v7/validation/metadata/classes.csv'\n",
      "Downloading 'https://storage.googleapis.com/openimages/2018_04/bbox_labels_600_hierarchy.json' to '/var/folders/0f/f00gz65n4nz9tczdp4hkdzbm0000gn/T/tmpj2u7brrp/metadata/hierarchy.json'\n",
      "Downloading 'https://storage.googleapis.com/openimages/v5/validation-annotations-bbox.csv' to '/Users/anphong/Documents/School/ML/Crawling_Data/content_val/open-images-v7/validation/labels/detections.csv'\n",
      "Downloading 2000 images\n",
      " 100% |█████████████████| 2000/2000 [5.1m elapsed, 0s remaining, 6.2 files/s]      \n",
      "Dataset info written to '/Users/anphong/Documents/School/ML/Crawling_Data/content_val/open-images-v7/info.json'\n",
      "Loading 'open-images-v7' split 'validation'\n",
      " 100% |███████████████| 2000/2000 [2.2s elapsed, 0s remaining, 944.2 samples/s]      \n",
      "Dataset 'open-images-v7-validation-2000' created\n",
      "   4% |/--------------|   87/2000 [103.5ms elapsed, 2.3s remaining, 840.9 samples/s] "
     ]
    },
    {
     "name": "stderr",
     "output_type": "stream",
     "text": [
      "/Library/Frameworks/Python.framework/Versions/3.11/lib/python3.11/site-packages/fiftyone/utils/yolo.py:1029: UserWarning: Ignoring object with label 'Trousers' not in provided classes\n",
      "  warnings.warn(msg)\n",
      "/Library/Frameworks/Python.framework/Versions/3.11/lib/python3.11/site-packages/fiftyone/utils/yolo.py:1029: UserWarning: Ignoring object with label 'Human leg' not in provided classes\n",
      "  warnings.warn(msg)\n",
      "/Library/Frameworks/Python.framework/Versions/3.11/lib/python3.11/site-packages/fiftyone/utils/yolo.py:1029: UserWarning: Ignoring object with label 'Person' not in provided classes\n",
      "  warnings.warn(msg)\n",
      "/Library/Frameworks/Python.framework/Versions/3.11/lib/python3.11/site-packages/fiftyone/utils/yolo.py:1029: UserWarning: Ignoring object with label 'Mammal' not in provided classes\n",
      "  warnings.warn(msg)\n",
      "/Library/Frameworks/Python.framework/Versions/3.11/lib/python3.11/site-packages/fiftyone/utils/yolo.py:1029: UserWarning: Ignoring object with label 'Footwear' not in provided classes\n",
      "  warnings.warn(msg)\n",
      "/Library/Frameworks/Python.framework/Versions/3.11/lib/python3.11/site-packages/fiftyone/utils/yolo.py:1029: UserWarning: Ignoring object with label 'Human arm' not in provided classes\n",
      "  warnings.warn(msg)\n",
      "/Library/Frameworks/Python.framework/Versions/3.11/lib/python3.11/site-packages/fiftyone/utils/yolo.py:1029: UserWarning: Ignoring object with label 'Human body' not in provided classes\n",
      "  warnings.warn(msg)\n",
      "/Library/Frameworks/Python.framework/Versions/3.11/lib/python3.11/site-packages/fiftyone/utils/yolo.py:1029: UserWarning: Ignoring object with label 'Shellfish' not in provided classes\n",
      "  warnings.warn(msg)\n",
      "/Library/Frameworks/Python.framework/Versions/3.11/lib/python3.11/site-packages/fiftyone/utils/yolo.py:1029: UserWarning: Ignoring object with label 'Plant' not in provided classes\n",
      "  warnings.warn(msg)\n",
      "/Library/Frameworks/Python.framework/Versions/3.11/lib/python3.11/site-packages/fiftyone/utils/yolo.py:1029: UserWarning: Ignoring object with label 'Tree' not in provided classes\n",
      "  warnings.warn(msg)\n",
      "/Library/Frameworks/Python.framework/Versions/3.11/lib/python3.11/site-packages/fiftyone/utils/yolo.py:1029: UserWarning: Ignoring object with label 'Human face' not in provided classes\n",
      "  warnings.warn(msg)\n",
      "/Library/Frameworks/Python.framework/Versions/3.11/lib/python3.11/site-packages/fiftyone/utils/yolo.py:1029: UserWarning: Ignoring object with label 'Human hair' not in provided classes\n",
      "  warnings.warn(msg)\n",
      "/Library/Frameworks/Python.framework/Versions/3.11/lib/python3.11/site-packages/fiftyone/utils/yolo.py:1029: UserWarning: Ignoring object with label 'Girl' not in provided classes\n",
      "  warnings.warn(msg)\n",
      "/Library/Frameworks/Python.framework/Versions/3.11/lib/python3.11/site-packages/fiftyone/utils/yolo.py:1029: UserWarning: Ignoring object with label 'Clothing' not in provided classes\n",
      "  warnings.warn(msg)\n",
      "/Library/Frameworks/Python.framework/Versions/3.11/lib/python3.11/site-packages/fiftyone/utils/yolo.py:1029: UserWarning: Ignoring object with label 'Human head' not in provided classes\n",
      "  warnings.warn(msg)\n",
      "/Library/Frameworks/Python.framework/Versions/3.11/lib/python3.11/site-packages/fiftyone/utils/yolo.py:1029: UserWarning: Ignoring object with label 'Human hand' not in provided classes\n",
      "  warnings.warn(msg)\n",
      "/Library/Frameworks/Python.framework/Versions/3.11/lib/python3.11/site-packages/fiftyone/utils/yolo.py:1029: UserWarning: Ignoring object with label 'Human nose' not in provided classes\n",
      "  warnings.warn(msg)\n",
      "/Library/Frameworks/Python.framework/Versions/3.11/lib/python3.11/site-packages/fiftyone/utils/yolo.py:1029: UserWarning: Ignoring object with label 'Tableware' not in provided classes\n",
      "  warnings.warn(msg)\n",
      "/Library/Frameworks/Python.framework/Versions/3.11/lib/python3.11/site-packages/fiftyone/utils/yolo.py:1029: UserWarning: Ignoring object with label 'Animal' not in provided classes\n",
      "  warnings.warn(msg)\n",
      "/Library/Frameworks/Python.framework/Versions/3.11/lib/python3.11/site-packages/fiftyone/utils/yolo.py:1029: UserWarning: Ignoring object with label 'Food' not in provided classes\n",
      "  warnings.warn(msg)\n",
      "/Library/Frameworks/Python.framework/Versions/3.11/lib/python3.11/site-packages/fiftyone/utils/yolo.py:1029: UserWarning: Ignoring object with label 'Sunglasses' not in provided classes\n",
      "  warnings.warn(msg)\n",
      "/Library/Frameworks/Python.framework/Versions/3.11/lib/python3.11/site-packages/fiftyone/utils/yolo.py:1029: UserWarning: Ignoring object with label 'Human mouth' not in provided classes\n",
      "  warnings.warn(msg)\n",
      "/Library/Frameworks/Python.framework/Versions/3.11/lib/python3.11/site-packages/fiftyone/utils/yolo.py:1029: UserWarning: Ignoring object with label 'Man' not in provided classes\n",
      "  warnings.warn(msg)\n",
      "/Library/Frameworks/Python.framework/Versions/3.11/lib/python3.11/site-packages/fiftyone/utils/yolo.py:1029: UserWarning: Ignoring object with label 'Goose' not in provided classes\n",
      "  warnings.warn(msg)\n",
      "/Library/Frameworks/Python.framework/Versions/3.11/lib/python3.11/site-packages/fiftyone/utils/yolo.py:1029: UserWarning: Ignoring object with label 'Bed' not in provided classes\n",
      "  warnings.warn(msg)\n",
      "/Library/Frameworks/Python.framework/Versions/3.11/lib/python3.11/site-packages/fiftyone/utils/yolo.py:1029: UserWarning: Ignoring object with label 'Carnivore' not in provided classes\n",
      "  warnings.warn(msg)\n",
      "/Library/Frameworks/Python.framework/Versions/3.11/lib/python3.11/site-packages/fiftyone/utils/yolo.py:1029: UserWarning: Ignoring object with label 'Fashion accessory' not in provided classes\n",
      "  warnings.warn(msg)\n",
      "/Library/Frameworks/Python.framework/Versions/3.11/lib/python3.11/site-packages/fiftyone/utils/yolo.py:1029: UserWarning: Ignoring object with label 'Jeans' not in provided classes\n",
      "  warnings.warn(msg)\n",
      "/Library/Frameworks/Python.framework/Versions/3.11/lib/python3.11/site-packages/fiftyone/utils/yolo.py:1029: UserWarning: Ignoring object with label 'Dog bed' not in provided classes\n",
      "  warnings.warn(msg)\n",
      "/Library/Frameworks/Python.framework/Versions/3.11/lib/python3.11/site-packages/fiftyone/utils/yolo.py:1029: UserWarning: Ignoring object with label 'Land vehicle' not in provided classes\n",
      "  warnings.warn(msg)\n",
      "/Library/Frameworks/Python.framework/Versions/3.11/lib/python3.11/site-packages/fiftyone/utils/yolo.py:1029: UserWarning: Ignoring object with label 'Flower' not in provided classes\n",
      "  warnings.warn(msg)\n",
      "/Library/Frameworks/Python.framework/Versions/3.11/lib/python3.11/site-packages/fiftyone/utils/yolo.py:1029: UserWarning: Ignoring object with label 'Tire' not in provided classes\n",
      "  warnings.warn(msg)\n",
      "/Library/Frameworks/Python.framework/Versions/3.11/lib/python3.11/site-packages/fiftyone/utils/yolo.py:1029: UserWarning: Ignoring object with label 'Wheel' not in provided classes\n",
      "  warnings.warn(msg)\n",
      "/Library/Frameworks/Python.framework/Versions/3.11/lib/python3.11/site-packages/fiftyone/utils/yolo.py:1029: UserWarning: Ignoring object with label 'Squirrel' not in provided classes\n",
      "  warnings.warn(msg)\n",
      "/Library/Frameworks/Python.framework/Versions/3.11/lib/python3.11/site-packages/fiftyone/utils/yolo.py:1029: UserWarning: Ignoring object with label 'Lobster' not in provided classes\n",
      "  warnings.warn(msg)\n",
      "/Library/Frameworks/Python.framework/Versions/3.11/lib/python3.11/site-packages/fiftyone/utils/yolo.py:1029: UserWarning: Ignoring object with label 'Invertebrate' not in provided classes\n",
      "  warnings.warn(msg)\n",
      "/Library/Frameworks/Python.framework/Versions/3.11/lib/python3.11/site-packages/fiftyone/utils/yolo.py:1029: UserWarning: Ignoring object with label 'Car' not in provided classes\n",
      "  warnings.warn(msg)\n",
      "/Library/Frameworks/Python.framework/Versions/3.11/lib/python3.11/site-packages/fiftyone/utils/yolo.py:1029: UserWarning: Ignoring object with label 'Alarm clock' not in provided classes\n",
      "  warnings.warn(msg)\n",
      "/Library/Frameworks/Python.framework/Versions/3.11/lib/python3.11/site-packages/fiftyone/utils/yolo.py:1029: UserWarning: Ignoring object with label 'Toy' not in provided classes\n",
      "  warnings.warn(msg)\n",
      "/Library/Frameworks/Python.framework/Versions/3.11/lib/python3.11/site-packages/fiftyone/utils/yolo.py:1029: UserWarning: Ignoring object with label 'Bull' not in provided classes\n",
      "  warnings.warn(msg)\n",
      "/Library/Frameworks/Python.framework/Versions/3.11/lib/python3.11/site-packages/fiftyone/utils/yolo.py:1029: UserWarning: Ignoring object with label 'Alpaca' not in provided classes\n",
      "  warnings.warn(msg)\n",
      "/Library/Frameworks/Python.framework/Versions/3.11/lib/python3.11/site-packages/fiftyone/utils/yolo.py:1029: UserWarning: Ignoring object with label 'Furniture' not in provided classes\n",
      "  warnings.warn(msg)\n"
     ]
    },
    {
     "name": "stdout",
     "output_type": "stream",
     "text": [
      "  19% |██|------------|  387/2000 [408.1ms elapsed, 1.7s remaining, 948.2 samples/s] "
     ]
    },
    {
     "name": "stderr",
     "output_type": "stream",
     "text": [
      "/Library/Frameworks/Python.framework/Versions/3.11/lib/python3.11/site-packages/fiftyone/utils/yolo.py:1029: UserWarning: Ignoring object with label 'Woman' not in provided classes\n",
      "  warnings.warn(msg)\n",
      "/Library/Frameworks/Python.framework/Versions/3.11/lib/python3.11/site-packages/fiftyone/utils/yolo.py:1029: UserWarning: Ignoring object with label 'Chair' not in provided classes\n",
      "  warnings.warn(msg)\n",
      "/Library/Frameworks/Python.framework/Versions/3.11/lib/python3.11/site-packages/fiftyone/utils/yolo.py:1029: UserWarning: Ignoring object with label 'Television' not in provided classes\n",
      "  warnings.warn(msg)\n",
      "/Library/Frameworks/Python.framework/Versions/3.11/lib/python3.11/site-packages/fiftyone/utils/yolo.py:1029: UserWarning: Ignoring object with label 'Window' not in provided classes\n",
      "  warnings.warn(msg)\n",
      "/Library/Frameworks/Python.framework/Versions/3.11/lib/python3.11/site-packages/fiftyone/utils/yolo.py:1029: UserWarning: Ignoring object with label 'Couch' not in provided classes\n",
      "  warnings.warn(msg)\n",
      "/Library/Frameworks/Python.framework/Versions/3.11/lib/python3.11/site-packages/fiftyone/utils/yolo.py:1029: UserWarning: Ignoring object with label 'Bird' not in provided classes\n",
      "  warnings.warn(msg)\n",
      "/Library/Frameworks/Python.framework/Versions/3.11/lib/python3.11/site-packages/fiftyone/utils/yolo.py:1029: UserWarning: Ignoring object with label 'Human eye' not in provided classes\n",
      "  warnings.warn(msg)\n",
      "/Library/Frameworks/Python.framework/Versions/3.11/lib/python3.11/site-packages/fiftyone/utils/yolo.py:1029: UserWarning: Ignoring object with label 'Human ear' not in provided classes\n",
      "  warnings.warn(msg)\n",
      "/Library/Frameworks/Python.framework/Versions/3.11/lib/python3.11/site-packages/fiftyone/utils/yolo.py:1029: UserWarning: Ignoring object with label 'Goat' not in provided classes\n",
      "  warnings.warn(msg)\n",
      "/Library/Frameworks/Python.framework/Versions/3.11/lib/python3.11/site-packages/fiftyone/utils/yolo.py:1029: UserWarning: Ignoring object with label 'Worm' not in provided classes\n",
      "  warnings.warn(msg)\n",
      "/Library/Frameworks/Python.framework/Versions/3.11/lib/python3.11/site-packages/fiftyone/utils/yolo.py:1029: UserWarning: Ignoring object with label 'Hamster' not in provided classes\n",
      "  warnings.warn(msg)\n",
      "/Library/Frameworks/Python.framework/Versions/3.11/lib/python3.11/site-packages/fiftyone/utils/yolo.py:1029: UserWarning: Ignoring object with label 'Boy' not in provided classes\n",
      "  warnings.warn(msg)\n",
      "/Library/Frameworks/Python.framework/Versions/3.11/lib/python3.11/site-packages/fiftyone/utils/yolo.py:1029: UserWarning: Ignoring object with label 'Motorcycle' not in provided classes\n",
      "  warnings.warn(msg)\n",
      "/Library/Frameworks/Python.framework/Versions/3.11/lib/python3.11/site-packages/fiftyone/utils/yolo.py:1029: UserWarning: Ignoring object with label 'Rhinoceros' not in provided classes\n",
      "  warnings.warn(msg)\n",
      "/Library/Frameworks/Python.framework/Versions/3.11/lib/python3.11/site-packages/fiftyone/utils/yolo.py:1029: UserWarning: Ignoring object with label 'Sculpture' not in provided classes\n",
      "  warnings.warn(msg)\n",
      "/Library/Frameworks/Python.framework/Versions/3.11/lib/python3.11/site-packages/fiftyone/utils/yolo.py:1029: UserWarning: Ignoring object with label 'Frying pan' not in provided classes\n",
      "  warnings.warn(msg)\n",
      "/Library/Frameworks/Python.framework/Versions/3.11/lib/python3.11/site-packages/fiftyone/utils/yolo.py:1029: UserWarning: Ignoring object with label 'Glasses' not in provided classes\n",
      "  warnings.warn(msg)\n",
      "/Library/Frameworks/Python.framework/Versions/3.11/lib/python3.11/site-packages/fiftyone/utils/yolo.py:1029: UserWarning: Ignoring object with label 'Boot' not in provided classes\n",
      "  warnings.warn(msg)\n",
      "/Library/Frameworks/Python.framework/Versions/3.11/lib/python3.11/site-packages/fiftyone/utils/yolo.py:1029: UserWarning: Ignoring object with label 'Auto part' not in provided classes\n",
      "  warnings.warn(msg)\n",
      "/Library/Frameworks/Python.framework/Versions/3.11/lib/python3.11/site-packages/fiftyone/utils/yolo.py:1029: UserWarning: Ignoring object with label 'Houseplant' not in provided classes\n",
      "  warnings.warn(msg)\n",
      "/Library/Frameworks/Python.framework/Versions/3.11/lib/python3.11/site-packages/fiftyone/utils/yolo.py:1029: UserWarning: Ignoring object with label 'Antelope' not in provided classes\n",
      "  warnings.warn(msg)\n"
     ]
    },
    {
     "name": "stdout",
     "output_type": "stream",
     "text": [
      "  29% |████-----------|  581/2000 [608.6ms elapsed, 1.5s remaining, 954.6 samples/s] "
     ]
    },
    {
     "name": "stderr",
     "output_type": "stream",
     "text": [
      "/Library/Frameworks/Python.framework/Versions/3.11/lib/python3.11/site-packages/fiftyone/utils/yolo.py:1029: UserWarning: Ignoring object with label 'Turkey' not in provided classes\n",
      "  warnings.warn(msg)\n",
      "/Library/Frameworks/Python.framework/Versions/3.11/lib/python3.11/site-packages/fiftyone/utils/yolo.py:1029: UserWarning: Ignoring object with label 'Cat furniture' not in provided classes\n",
      "  warnings.warn(msg)\n",
      "/Library/Frameworks/Python.framework/Versions/3.11/lib/python3.11/site-packages/fiftyone/utils/yolo.py:1029: UserWarning: Ignoring object with label 'Bicycle' not in provided classes\n",
      "  warnings.warn(msg)\n",
      "/Library/Frameworks/Python.framework/Versions/3.11/lib/python3.11/site-packages/fiftyone/utils/yolo.py:1029: UserWarning: Ignoring object with label 'Vehicle' not in provided classes\n",
      "  warnings.warn(msg)\n",
      "/Library/Frameworks/Python.framework/Versions/3.11/lib/python3.11/site-packages/fiftyone/utils/yolo.py:1029: UserWarning: Ignoring object with label 'Bicycle wheel' not in provided classes\n",
      "  warnings.warn(msg)\n",
      "/Library/Frameworks/Python.framework/Versions/3.11/lib/python3.11/site-packages/fiftyone/utils/yolo.py:1029: UserWarning: Ignoring object with label 'Vehicle registration plate' not in provided classes\n",
      "  warnings.warn(msg)\n",
      "/Library/Frameworks/Python.framework/Versions/3.11/lib/python3.11/site-packages/fiftyone/utils/yolo.py:1029: UserWarning: Ignoring object with label 'Pillow' not in provided classes\n",
      "  warnings.warn(msg)\n",
      "/Library/Frameworks/Python.framework/Versions/3.11/lib/python3.11/site-packages/fiftyone/utils/yolo.py:1029: UserWarning: Ignoring object with label 'Bookcase' not in provided classes\n",
      "  warnings.warn(msg)\n",
      "/Library/Frameworks/Python.framework/Versions/3.11/lib/python3.11/site-packages/fiftyone/utils/yolo.py:1029: UserWarning: Ignoring object with label 'House' not in provided classes\n",
      "  warnings.warn(msg)\n",
      "/Library/Frameworks/Python.framework/Versions/3.11/lib/python3.11/site-packages/fiftyone/utils/yolo.py:1029: UserWarning: Ignoring object with label 'Shelf' not in provided classes\n",
      "  warnings.warn(msg)\n",
      "/Library/Frameworks/Python.framework/Versions/3.11/lib/python3.11/site-packages/fiftyone/utils/yolo.py:1029: UserWarning: Ignoring object with label 'Desk' not in provided classes\n",
      "  warnings.warn(msg)\n",
      "/Library/Frameworks/Python.framework/Versions/3.11/lib/python3.11/site-packages/fiftyone/utils/yolo.py:1029: UserWarning: Ignoring object with label 'Book' not in provided classes\n",
      "  warnings.warn(msg)\n",
      "/Library/Frameworks/Python.framework/Versions/3.11/lib/python3.11/site-packages/fiftyone/utils/yolo.py:1029: UserWarning: Ignoring object with label 'Leopard' not in provided classes\n",
      "  warnings.warn(msg)\n",
      "/Library/Frameworks/Python.framework/Versions/3.11/lib/python3.11/site-packages/fiftyone/utils/yolo.py:1029: UserWarning: Ignoring object with label 'Cheetah' not in provided classes\n",
      "  warnings.warn(msg)\n",
      "/Library/Frameworks/Python.framework/Versions/3.11/lib/python3.11/site-packages/fiftyone/utils/yolo.py:1029: UserWarning: Ignoring object with label 'Hedgehog' not in provided classes\n",
      "  warnings.warn(msg)\n",
      "/Library/Frameworks/Python.framework/Versions/3.11/lib/python3.11/site-packages/fiftyone/utils/yolo.py:1029: UserWarning: Ignoring object with label 'Lizard' not in provided classes\n",
      "  warnings.warn(msg)\n",
      "/Library/Frameworks/Python.framework/Versions/3.11/lib/python3.11/site-packages/fiftyone/utils/yolo.py:1029: UserWarning: Ignoring object with label 'Human foot' not in provided classes\n",
      "  warnings.warn(msg)\n",
      "/Library/Frameworks/Python.framework/Versions/3.11/lib/python3.11/site-packages/fiftyone/utils/yolo.py:1029: UserWarning: Ignoring object with label 'Horse' not in provided classes\n",
      "  warnings.warn(msg)\n",
      "/Library/Frameworks/Python.framework/Versions/3.11/lib/python3.11/site-packages/fiftyone/utils/yolo.py:1029: UserWarning: Ignoring object with label 'Swan' not in provided classes\n",
      "  warnings.warn(msg)\n",
      "/Library/Frameworks/Python.framework/Versions/3.11/lib/python3.11/site-packages/fiftyone/utils/yolo.py:1029: UserWarning: Ignoring object with label 'Van' not in provided classes\n",
      "  warnings.warn(msg)\n",
      "/Library/Frameworks/Python.framework/Versions/3.11/lib/python3.11/site-packages/fiftyone/utils/yolo.py:1029: UserWarning: Ignoring object with label 'Mechanical fan' not in provided classes\n",
      "  warnings.warn(msg)\n",
      "/Library/Frameworks/Python.framework/Versions/3.11/lib/python3.11/site-packages/fiftyone/utils/yolo.py:1029: UserWarning: Ignoring object with label 'Dessert' not in provided classes\n",
      "  warnings.warn(msg)\n"
     ]
    },
    {
     "name": "stdout",
     "output_type": "stream",
     "text": [
      "  38% |█████|---------|  760/2000 [810.1ms elapsed, 1.3s remaining, 938.2 samples/s] "
     ]
    },
    {
     "name": "stderr",
     "output_type": "stream",
     "text": [
      "/Library/Frameworks/Python.framework/Versions/3.11/lib/python3.11/site-packages/fiftyone/utils/yolo.py:1029: UserWarning: Ignoring object with label 'Airplane' not in provided classes\n",
      "  warnings.warn(msg)\n",
      "/Library/Frameworks/Python.framework/Versions/3.11/lib/python3.11/site-packages/fiftyone/utils/yolo.py:1029: UserWarning: Ignoring object with label 'Suit' not in provided classes\n",
      "  warnings.warn(msg)\n",
      "/Library/Frameworks/Python.framework/Versions/3.11/lib/python3.11/site-packages/fiftyone/utils/yolo.py:1029: UserWarning: Ignoring object with label 'Shrimp' not in provided classes\n",
      "  warnings.warn(msg)\n",
      "/Library/Frameworks/Python.framework/Versions/3.11/lib/python3.11/site-packages/fiftyone/utils/yolo.py:1029: UserWarning: Ignoring object with label 'Cart' not in provided classes\n",
      "  warnings.warn(msg)\n",
      "/Library/Frameworks/Python.framework/Versions/3.11/lib/python3.11/site-packages/fiftyone/utils/yolo.py:1029: UserWarning: Ignoring object with label 'Tennis ball' not in provided classes\n",
      "  warnings.warn(msg)\n",
      "/Library/Frameworks/Python.framework/Versions/3.11/lib/python3.11/site-packages/fiftyone/utils/yolo.py:1029: UserWarning: Ignoring object with label 'Flowerpot' not in provided classes\n",
      "  warnings.warn(msg)\n",
      "/Library/Frameworks/Python.framework/Versions/3.11/lib/python3.11/site-packages/fiftyone/utils/yolo.py:1029: UserWarning: Ignoring object with label 'Coffee table' not in provided classes\n",
      "  warnings.warn(msg)\n",
      "/Library/Frameworks/Python.framework/Versions/3.11/lib/python3.11/site-packages/fiftyone/utils/yolo.py:1029: UserWarning: Ignoring object with label 'Poster' not in provided classes\n",
      "  warnings.warn(msg)\n",
      "/Library/Frameworks/Python.framework/Versions/3.11/lib/python3.11/site-packages/fiftyone/utils/yolo.py:1029: UserWarning: Ignoring object with label 'Vegetable' not in provided classes\n",
      "  warnings.warn(msg)\n",
      "/Library/Frameworks/Python.framework/Versions/3.11/lib/python3.11/site-packages/fiftyone/utils/yolo.py:1029: UserWarning: Ignoring object with label 'Lemon' not in provided classes\n",
      "  warnings.warn(msg)\n",
      "/Library/Frameworks/Python.framework/Versions/3.11/lib/python3.11/site-packages/fiftyone/utils/yolo.py:1029: UserWarning: Ignoring object with label 'Lynx' not in provided classes\n",
      "  warnings.warn(msg)\n",
      "/Library/Frameworks/Python.framework/Versions/3.11/lib/python3.11/site-packages/fiftyone/utils/yolo.py:1029: UserWarning: Ignoring object with label 'Jacket' not in provided classes\n",
      "  warnings.warn(msg)\n",
      "/Library/Frameworks/Python.framework/Versions/3.11/lib/python3.11/site-packages/fiftyone/utils/yolo.py:1029: UserWarning: Ignoring object with label 'Human beard' not in provided classes\n",
      "  warnings.warn(msg)\n",
      "/Library/Frameworks/Python.framework/Versions/3.11/lib/python3.11/site-packages/fiftyone/utils/yolo.py:1029: UserWarning: Ignoring object with label 'Shorts' not in provided classes\n",
      "  warnings.warn(msg)\n",
      "/Library/Frameworks/Python.framework/Versions/3.11/lib/python3.11/site-packages/fiftyone/utils/yolo.py:1029: UserWarning: Ignoring object with label 'Washing machine' not in provided classes\n",
      "  warnings.warn(msg)\n",
      "/Library/Frameworks/Python.framework/Versions/3.11/lib/python3.11/site-packages/fiftyone/utils/yolo.py:1029: UserWarning: Ignoring object with label 'Bottle' not in provided classes\n",
      "  warnings.warn(msg)\n"
     ]
    },
    {
     "name": "stdout",
     "output_type": "stream",
     "text": [
      "  46% |██████---------|  926/2000 [1.0s elapsed, 1.2s remaining, 921.8 samples/s]    "
     ]
    },
    {
     "name": "stderr",
     "output_type": "stream",
     "text": [
      "/Library/Frameworks/Python.framework/Versions/3.11/lib/python3.11/site-packages/fiftyone/utils/yolo.py:1029: UserWarning: Ignoring object with label 'Insect' not in provided classes\n",
      "  warnings.warn(msg)\n",
      "/Library/Frameworks/Python.framework/Versions/3.11/lib/python3.11/site-packages/fiftyone/utils/yolo.py:1029: UserWarning: Ignoring object with label 'Mule' not in provided classes\n",
      "  warnings.warn(msg)\n",
      "/Library/Frameworks/Python.framework/Versions/3.11/lib/python3.11/site-packages/fiftyone/utils/yolo.py:1029: UserWarning: Ignoring object with label 'Watercraft' not in provided classes\n",
      "  warnings.warn(msg)\n",
      "/Library/Frameworks/Python.framework/Versions/3.11/lib/python3.11/site-packages/fiftyone/utils/yolo.py:1029: UserWarning: Ignoring object with label 'Boat' not in provided classes\n",
      "  warnings.warn(msg)\n",
      "/Library/Frameworks/Python.framework/Versions/3.11/lib/python3.11/site-packages/fiftyone/utils/yolo.py:1029: UserWarning: Ignoring object with label 'Fast food' not in provided classes\n",
      "  warnings.warn(msg)\n",
      "/Library/Frameworks/Python.framework/Versions/3.11/lib/python3.11/site-packages/fiftyone/utils/yolo.py:1029: UserWarning: Ignoring object with label 'Deer' not in provided classes\n",
      "  warnings.warn(msg)\n",
      "/Library/Frameworks/Python.framework/Versions/3.11/lib/python3.11/site-packages/fiftyone/utils/yolo.py:1029: UserWarning: Ignoring object with label 'Jaguar (Animal)' not in provided classes\n",
      "  warnings.warn(msg)\n",
      "/Library/Frameworks/Python.framework/Versions/3.11/lib/python3.11/site-packages/fiftyone/utils/yolo.py:1029: UserWarning: Ignoring object with label 'Wheelchair' not in provided classes\n",
      "  warnings.warn(msg)\n",
      "/Library/Frameworks/Python.framework/Versions/3.11/lib/python3.11/site-packages/fiftyone/utils/yolo.py:1029: UserWarning: Ignoring object with label 'Coffee cup' not in provided classes\n",
      "  warnings.warn(msg)\n",
      "/Library/Frameworks/Python.framework/Versions/3.11/lib/python3.11/site-packages/fiftyone/utils/yolo.py:1029: UserWarning: Ignoring object with label 'Building' not in provided classes\n",
      "  warnings.warn(msg)\n"
     ]
    },
    {
     "name": "stdout",
     "output_type": "stream",
     "text": [
      "  55% |████████|------| 1096/2000 [1.2s elapsed, 1.0s remaining, 881.7 samples/s]    "
     ]
    },
    {
     "name": "stderr",
     "output_type": "stream",
     "text": [
      "/Library/Frameworks/Python.framework/Versions/3.11/lib/python3.11/site-packages/fiftyone/utils/yolo.py:1029: UserWarning: Ignoring object with label 'Skirt' not in provided classes\n",
      "  warnings.warn(msg)\n",
      "/Library/Frameworks/Python.framework/Versions/3.11/lib/python3.11/site-packages/fiftyone/utils/yolo.py:1029: UserWarning: Ignoring object with label 'High heels' not in provided classes\n",
      "  warnings.warn(msg)\n",
      "/Library/Frameworks/Python.framework/Versions/3.11/lib/python3.11/site-packages/fiftyone/utils/yolo.py:1029: UserWarning: Ignoring object with label 'Sandal' not in provided classes\n",
      "  warnings.warn(msg)\n",
      "/Library/Frameworks/Python.framework/Versions/3.11/lib/python3.11/site-packages/fiftyone/utils/yolo.py:1029: UserWarning: Ignoring object with label 'Reptile' not in provided classes\n",
      "  warnings.warn(msg)\n",
      "/Library/Frameworks/Python.framework/Versions/3.11/lib/python3.11/site-packages/fiftyone/utils/yolo.py:1029: UserWarning: Ignoring object with label 'Bowl' not in provided classes\n",
      "  warnings.warn(msg)\n",
      "/Library/Frameworks/Python.framework/Versions/3.11/lib/python3.11/site-packages/fiftyone/utils/yolo.py:1029: UserWarning: Ignoring object with label 'Seafood' not in provided classes\n",
      "  warnings.warn(msg)\n",
      "/Library/Frameworks/Python.framework/Versions/3.11/lib/python3.11/site-packages/fiftyone/utils/yolo.py:1029: UserWarning: Ignoring object with label 'Bronze sculpture' not in provided classes\n",
      "  warnings.warn(msg)\n"
     ]
    },
    {
     "name": "stdout",
     "output_type": "stream",
     "text": [
      "  68% |██████████\\----| 1370/2000 [1.5s elapsed, 717.0ms remaining, 868.0 samples/s] "
     ]
    },
    {
     "name": "stderr",
     "output_type": "stream",
     "text": [
      "/Library/Frameworks/Python.framework/Versions/3.11/lib/python3.11/site-packages/fiftyone/utils/yolo.py:1029: UserWarning: Ignoring object with label 'Teddy bear' not in provided classes\n",
      "  warnings.warn(msg)\n",
      "/Library/Frameworks/Python.framework/Versions/3.11/lib/python3.11/site-packages/fiftyone/utils/yolo.py:1029: UserWarning: Ignoring object with label 'Swimming pool' not in provided classes\n",
      "  warnings.warn(msg)\n",
      "/Library/Frameworks/Python.framework/Versions/3.11/lib/python3.11/site-packages/fiftyone/utils/yolo.py:1029: UserWarning: Ignoring object with label 'Dairy Product' not in provided classes\n",
      "  warnings.warn(msg)\n",
      "/Library/Frameworks/Python.framework/Versions/3.11/lib/python3.11/site-packages/fiftyone/utils/yolo.py:1029: UserWarning: Ignoring object with label 'Mixing bowl' not in provided classes\n",
      "  warnings.warn(msg)\n",
      "/Library/Frameworks/Python.framework/Versions/3.11/lib/python3.11/site-packages/fiftyone/utils/yolo.py:1029: UserWarning: Ignoring object with label 'Red panda' not in provided classes\n",
      "  warnings.warn(msg)\n",
      "/Library/Frameworks/Python.framework/Versions/3.11/lib/python3.11/site-packages/fiftyone/utils/yolo.py:1029: UserWarning: Ignoring object with label 'Drink' not in provided classes\n",
      "  warnings.warn(msg)\n",
      "/Library/Frameworks/Python.framework/Versions/3.11/lib/python3.11/site-packages/fiftyone/utils/yolo.py:1029: UserWarning: Ignoring object with label 'Coat' not in provided classes\n",
      "  warnings.warn(msg)\n",
      "/Library/Frameworks/Python.framework/Versions/3.11/lib/python3.11/site-packages/fiftyone/utils/yolo.py:1029: UserWarning: Ignoring object with label 'Bathtub' not in provided classes\n",
      "  warnings.warn(msg)\n",
      "/Library/Frameworks/Python.framework/Versions/3.11/lib/python3.11/site-packages/fiftyone/utils/yolo.py:1029: UserWarning: Ignoring object with label 'Giraffe' not in provided classes\n",
      "  warnings.warn(msg)\n"
     ]
    },
    {
     "name": "stdout",
     "output_type": "stream",
     "text": [
      "  82% |████████████---| 1649/2000 [1.8s elapsed, 399.4ms remaining, 873.2 samples/s] "
     ]
    },
    {
     "name": "stderr",
     "output_type": "stream",
     "text": [
      "/Library/Frameworks/Python.framework/Versions/3.11/lib/python3.11/site-packages/fiftyone/utils/yolo.py:1029: UserWarning: Ignoring object with label 'Polar bear' not in provided classes\n",
      "  warnings.warn(msg)\n",
      "/Library/Frameworks/Python.framework/Versions/3.11/lib/python3.11/site-packages/fiftyone/utils/yolo.py:1029: UserWarning: Ignoring object with label 'Cowboy hat' not in provided classes\n",
      "  warnings.warn(msg)\n",
      "/Library/Frameworks/Python.framework/Versions/3.11/lib/python3.11/site-packages/fiftyone/utils/yolo.py:1029: UserWarning: Ignoring object with label 'Coin' not in provided classes\n",
      "  warnings.warn(msg)\n",
      "/Library/Frameworks/Python.framework/Versions/3.11/lib/python3.11/site-packages/fiftyone/utils/yolo.py:1029: UserWarning: Ignoring object with label 'Light switch' not in provided classes\n",
      "  warnings.warn(msg)\n",
      "/Library/Frameworks/Python.framework/Versions/3.11/lib/python3.11/site-packages/fiftyone/utils/yolo.py:1029: UserWarning: Ignoring object with label 'Ball' not in provided classes\n",
      "  warnings.warn(msg)\n"
     ]
    },
    {
     "name": "stdout",
     "output_type": "stream",
     "text": [
      "  91% |█████████████|-| 1826/2000 [2.0s elapsed, 192.6ms remaining, 903.4 samples/s] "
     ]
    },
    {
     "name": "stderr",
     "output_type": "stream",
     "text": [
      "/Library/Frameworks/Python.framework/Versions/3.11/lib/python3.11/site-packages/fiftyone/utils/yolo.py:1029: UserWarning: Ignoring object with label 'Miniskirt' not in provided classes\n",
      "  warnings.warn(msg)\n",
      "/Library/Frameworks/Python.framework/Versions/3.11/lib/python3.11/site-packages/fiftyone/utils/yolo.py:1029: UserWarning: Ignoring object with label 'Belt' not in provided classes\n",
      "  warnings.warn(msg)\n",
      "/Library/Frameworks/Python.framework/Versions/3.11/lib/python3.11/site-packages/fiftyone/utils/yolo.py:1029: UserWarning: Ignoring object with label 'Door handle' not in provided classes\n",
      "  warnings.warn(msg)\n",
      "/Library/Frameworks/Python.framework/Versions/3.11/lib/python3.11/site-packages/fiftyone/utils/yolo.py:1029: UserWarning: Ignoring object with label 'Rose' not in provided classes\n",
      "  warnings.warn(msg)\n",
      "/Library/Frameworks/Python.framework/Versions/3.11/lib/python3.11/site-packages/fiftyone/utils/yolo.py:1029: UserWarning: Ignoring object with label 'Hat' not in provided classes\n",
      "  warnings.warn(msg)\n",
      "/Library/Frameworks/Python.framework/Versions/3.11/lib/python3.11/site-packages/fiftyone/utils/yolo.py:1029: UserWarning: Ignoring object with label 'Brown bear' not in provided classes\n",
      "  warnings.warn(msg)\n",
      "/Library/Frameworks/Python.framework/Versions/3.11/lib/python3.11/site-packages/fiftyone/utils/yolo.py:1029: UserWarning: Ignoring object with label 'Serving tray' not in provided classes\n",
      "  warnings.warn(msg)\n",
      "/Library/Frameworks/Python.framework/Versions/3.11/lib/python3.11/site-packages/fiftyone/utils/yolo.py:1029: UserWarning: Ignoring object with label 'Platter' not in provided classes\n",
      "  warnings.warn(msg)\n",
      "/Library/Frameworks/Python.framework/Versions/3.11/lib/python3.11/site-packages/fiftyone/utils/yolo.py:1029: UserWarning: Ignoring object with label 'Saucer' not in provided classes\n",
      "  warnings.warn(msg)\n",
      "/Library/Frameworks/Python.framework/Versions/3.11/lib/python3.11/site-packages/fiftyone/utils/yolo.py:1029: UserWarning: Ignoring object with label 'Plate' not in provided classes\n",
      "  warnings.warn(msg)\n"
     ]
    },
    {
     "name": "stdout",
     "output_type": "stream",
     "text": [
      " 100% |███████████████| 2000/2000 [2.2s elapsed, 0s remaining, 890.5 samples/s]      \n"
     ]
    }
   ],
   "source": [
    "import fiftyone as fo\n",
    "import fiftyone.zoo as foz\n",
    "\n",
    "# Define the classes you want to include\n",
    "\n",
    "# Load the Open Images V7 dataset\n",
    "\n",
    "#Please change the path to work in your environment\n",
    "dataset = foz.load_zoo_dataset(\n",
    "    \"open-images-v7\",\n",
    "    split=\"validation\",\n",
    "    label_types=[\"detections\"],\n",
    "    classes=classes,\n",
    "    max_samples=2000,  # Adjust this number based on your needs\n",
    "    dataset_dir=\"/Users/anphong/Documents/School/ML/Crawling_Data/content_val/open-images-v7\"\n",
    ")\n",
    "\n",
    "# Export the dataset to YOLO format\n",
    "dataset.export(\n",
    "    export_dir=\"/Users/anphong/Documents/School/ML/Crawling_Data/content_val/open-images-v7-yolo\",\n",
    "    dataset_type=fo.types.YOLOv5Dataset,\n",
    "    classes=classes,\n",
    "    split=\"validation\"\n",
    ")"
   ]
  }
 ],
 "metadata": {
  "kernelspec": {
   "display_name": "Python 3",
   "language": "python",
   "name": "python3"
  },
  "language_info": {
   "codemirror_mode": {
    "name": "ipython",
    "version": 3
   },
   "file_extension": ".py",
   "mimetype": "text/x-python",
   "name": "python",
   "nbconvert_exporter": "python",
   "pygments_lexer": "ipython3",
   "version": "3.11.9"
  }
 },
 "nbformat": 4,
 "nbformat_minor": 2
}
